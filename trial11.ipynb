{
  "nbformat": 4,
  "nbformat_minor": 0,
  "metadata": {
    "colab": {
      "name": "trial11.ipynb",
      "provenance": [],
      "collapsed_sections": [],
      "include_colab_link": true
    },
    "kernelspec": {
      "name": "python3",
      "display_name": "Python 3"
    },
    "language_info": {
      "name": "python"
    },
    "accelerator": "GPU"
  },
  "cells": [
    {
      "cell_type": "markdown",
      "metadata": {
        "id": "view-in-github",
        "colab_type": "text"
      },
      "source": [
        "<a href=\"https://colab.research.google.com/github/TomBombadil95/SPBD/blob/main/trial11.ipynb\" target=\"_parent\"><img src=\"https://colab.research.google.com/assets/colab-badge.svg\" alt=\"Open In Colab\"/></a>"
      ]
    },
    {
      "cell_type": "markdown",
      "source": [
        "# Lib e Fun"
      ],
      "metadata": {
        "id": "2DNOrUkacm8q"
      }
    },
    {
      "cell_type": "code",
      "source": [
        "import torch\n",
        "import torchvision.datasets as datasets\n",
        "from torchvision import transforms\n",
        "from torch.utils.data import Dataset, DataLoader\n",
        "from torch.nn.utils.prune import l1_unstructured\n",
        "import numpy as np\n",
        "import matplotlib.pyplot as plt\n",
        "from copy import deepcopy\n",
        "import torch.nn as nn\n",
        "import torch.nn.functional as F\n",
        "import argparse\n",
        "\n",
        "use_cuda = True\n",
        "use_cuda = use_cuda and torch.cuda.is_available()\n",
        "device = torch.device(\"cuda\" if use_cuda else \"cpu\")"
      ],
      "metadata": {
        "id": "OH6LTab7cJR-"
      },
      "execution_count": null,
      "outputs": []
    },
    {
      "cell_type": "code",
      "source": [
        "def load_dataset(name, batch_size):\n",
        "    m = getattr(datasets, name)\n",
        "    ds_train = m(\"./data\", train=True, download=True, transform=transforms.ToTensor())\n",
        "    ds_test = m(\"./data\", train=False, download=True, transform=transforms.ToTensor())\n",
        "\n",
        "    train_loader = torch.utils.data.DataLoader(ds_train, batch_size=batch_size, shuffle=True)\n",
        "    test_loader = torch.utils.data.DataLoader(ds_test,batch_size=batch_size, shuffle=False)\n",
        "\n",
        "    return train_loader, test_loader\n",
        "\n",
        "def accuracy(model, test_loader, device):\n",
        "    tot = 0; correct = 0\n",
        "    with torch.no_grad():\n",
        "        for j, (inputs,labels) in enumerate(test_loader):\n",
        "            inputs = inputs.to(device)\n",
        "            labels = labels.to(device)\n",
        "\n",
        "            out = model(inputs)\n",
        "\n",
        "            _, preds = torch.max(out, dim=1)\n",
        "            \n",
        "            tot += len(inputs)\n",
        "            correct += torch.sum(preds == labels).item()\n",
        "    print('Correct predictions: ',correct, 'over', tot)\n",
        "    return correct/tot\n",
        "\n",
        "def create_penalty_masks(trained_model, orig_model, amount = 0.5):\n",
        "    star_params = [p.clone().detach() for p in trained_model.parameters()]\n",
        "    penalty = {}\n",
        "    masks = {}\n",
        "    for (name,p), (_,imp), p_star in zip(orig_model.named_parameters(), trained_model.importances, star_params):\n",
        "            penalty[name] = imp * torch.square(p - p_star)\n",
        "\n",
        "    for lay,pen in penalty.items():\n",
        "        name =  tuple(lay.split(\".\"))\n",
        "        module = getattr(trained_model, name[0])\n",
        "        l1_unstructured(module, name[1],  amount = amount, importance_scores=pen)\n",
        "\n",
        "    \n",
        "    for (n,i) in trained_model.named_buffers():\n",
        "         masks[n] = 1-i\n",
        "\n",
        "    return masks\n",
        "\n",
        "def training(model, orig_model, train_loader, criterion, optim, batch_size, device, masks, k = 10, alfa = 100, exponential_factor=1):\n",
        "    if orig_model is not None:\n",
        "      model.load_state_dict(orig_model.state_dict(), strict=False)\n",
        "    model.reset()\n",
        "    \n",
        "    accumulators = [torch.zeros_like(p, device=device) for p in model.parameters()]\n",
        "    losses = []\n",
        "\n",
        "    for i, (inputs, labels) in enumerate(train_loader):\n",
        "        if k > 0 and i == k:\n",
        "            break\n",
        "        \n",
        "        inputs = inputs.to(device); labels = labels.to(device)\n",
        "        \n",
        "        outputs = model(inputs)\n",
        "        loss = criterion(outputs, labels)\n",
        "        losses.append(loss.item())\n",
        "\n",
        "        if masks is not None:\n",
        "            tot_importance = 0\n",
        "            for p,(_,mask),(_,imp), p_star in zip(model.parameters(), masks.items(), model.importances, orig_model.parameters()):\n",
        "                mean = torch.sum(mask * imp * torch.square(p - p_star))\n",
        "                tot_importance += mean\n",
        "\n",
        "            tot_importance = (alfa * np.exp(-exponential_factor * i))*tot_importance\n",
        "\n",
        "            loss += tot_importance\n",
        "\n",
        "        optim.zero_grad()\n",
        "        loss.backward()\n",
        "        optim.step()\n",
        "                \n",
        "        for accum, v in zip(accumulators, model.parameters()):\n",
        "            accum.add_(v.grad.square())\n",
        "\n",
        "    for accum, (_,imp) in zip(accumulators, model.importances): \n",
        "        imp.add_(accum / len(train_loader))  \n",
        "\n",
        "    return losses\n",
        "\n",
        "\n",
        "def loss_plot(x, k, n):\n",
        "  offset = 0\n",
        "  start = 0\n",
        "\n",
        "  for t in range(n):\n",
        "    v = x[t]    \n",
        "  # for t, v in x.items():\n",
        "    plt.plot(list(range(start, start + len(v))), v)\n",
        "    start = start + len(v)\n",
        "  \n",
        "  t = n\n",
        "  v = x[t]\n",
        "  plt.plot(list(range(start, start + len(v))), v)\n",
        "\n",
        "\n",
        "def acc_plot(x):\n",
        "  plt.plot(x)\n",
        "  plt.ylim(0,1)"
      ],
      "metadata": {
        "id": "NN6k37Hoc2-t"
      },
      "execution_count": null,
      "outputs": []
    },
    {
      "cell_type": "markdown",
      "source": [
        "# Experiment"
      ],
      "metadata": {
        "id": "FrJgXf-mfbF6"
      }
    },
    {
      "cell_type": "code",
      "source": [
        "class SimpleModel(nn.Module):\n",
        "    def __init__(self):\n",
        "        super(SimpleModel, self).__init__()\n",
        "        \n",
        "        self.conv1 = nn.Conv2d(3, 64, 3)   #CIFAR10 --> (3,64,3)   #MNIST ---> (1,64,3)\n",
        "        self.conv2 = nn.Conv2d(64, 128, 3)\n",
        "        self.fc1 = nn.Linear(4608, 128)   #with conv--> 3200   #without conv --> 784    ; #CIFAR10 --> (4608, 128)\n",
        "        self.fc2 = nn.Linear(128, 10)\n",
        "        \n",
        "        self.importances = [(k, torch.zeros_like(p, device=device))  for k, p in self.named_parameters()]\n",
        "\n",
        "    def forward(self, x):\n",
        "        x =  F.max_pool2d(F.relu(self.conv1(x)), (2,2)) \n",
        "        x = F.max_pool2d(F.relu(self.conv2(x)), 2)\n",
        "        x = torch.flatten(x,1)\n",
        "        x = F.relu(self.fc1(x))\n",
        "        x = self.fc2(x)\n",
        "        return x\n",
        "    \n",
        "    def reset(self):\n",
        "        # reinitialize network\n",
        "        # for layer in self.children():\n",
        "        #     layer.reset_parameters()\n",
        "        # clear importance\n",
        "        for _,imp in self.importances:\n",
        "            imp.fill_(0.)"
      ],
      "metadata": {
        "id": "YW3j83QBf3YE"
      },
      "execution_count": null,
      "outputs": []
    },
    {
      "cell_type": "code",
      "source": [
        "LR = 0.001\n",
        "BATCH_SIZE = 32\n",
        "criterion = nn.CrossEntropyLoss()\n",
        "K = 20\n",
        "N = 10\n",
        "AMOUNT = 0.1\n",
        "dataset = 'CIFAR10'\n",
        "alfa = 100"
      ],
      "metadata": {
        "id": "aa5TPoGsTGIV"
      },
      "execution_count": null,
      "outputs": []
    },
    {
      "cell_type": "code",
      "source": [
        "train, test = load_dataset(dataset, BATCH_SIZE) "
      ],
      "metadata": {
        "colab": {
          "base_uri": "https://localhost:8080/"
        },
        "id": "5YtdztKSc3EB",
        "outputId": "406f03ec-55f1-4c65-9834-f8925d51c437"
      },
      "execution_count": null,
      "outputs": [
        {
          "output_type": "stream",
          "name": "stdout",
          "text": [
            "Files already downloaded and verified\n",
            "Files already downloaded and verified\n"
          ]
        }
      ]
    },
    {
      "cell_type": "code",
      "source": [
        "model = SimpleModel().to(device)\n",
        "copy_mod = deepcopy(model)\n",
        "\n",
        "los = {}; masks = None\n",
        "acc = {}\n",
        "\n",
        "for n in range(N):\n",
        "    optim= torch.optim.Adam(model.parameters(), lr=LR)\n",
        "\n",
        "    los[n] = training(model, copy_mod, train, criterion, optim, batch_size = BATCH_SIZE, device = device, k = K, masks =  masks, \n",
        "                      alfa = alfa, exponential_factor=0.1)\n",
        "    masks = create_penalty_masks(model, copy_mod, amount = AMOUNT)\n",
        "    a = accuracy(model, test, device)\n",
        "    acc[n] = a\n",
        "\n",
        "optim= torch.optim.Adam(model.parameters(), lr=LR)\n",
        "M = len(train) - K*N        \n",
        "los[N] = training(model, copy_mod, train, criterion, optim, batch_size = BATCH_SIZE, device = device, k = -1, masks = masks, \n",
        "                  alfa = alfa, exponential_factor=0.1)\n",
        "print('\\n\\n\\n\\n\\n')\n",
        "a = accuracy(model, test, device)\n",
        "acc[N] = a"
      ],
      "metadata": {
        "colab": {
          "base_uri": "https://localhost:8080/"
        },
        "id": "UMdKpj2MrK2r",
        "outputId": "53940e57-4474-4b7c-a6e4-fa371f555c7a"
      },
      "execution_count": null,
      "outputs": [
        {
          "output_type": "stream",
          "name": "stdout",
          "text": [
            "Correct predictions:  1747 over 10000\n",
            "Correct predictions:  2040 over 10000\n",
            "Correct predictions:  2476 over 10000\n",
            "Correct predictions:  2399 over 10000\n",
            "Correct predictions:  2948 over 10000\n",
            "Correct predictions:  3109 over 10000\n",
            "Correct predictions:  2545 over 10000\n",
            "Correct predictions:  2366 over 10000\n",
            "Correct predictions:  2733 over 10000\n",
            "Correct predictions:  2947 over 10000\n",
            "\n",
            "\n",
            "\n",
            "\n",
            "\n",
            "\n",
            "Correct predictions:  5511 over 10000\n"
          ]
        }
      ]
    },
    {
      "cell_type": "code",
      "source": [
        "loss_plot(los, K, N)"
      ],
      "metadata": {
        "colab": {
          "base_uri": "https://localhost:8080/",
          "height": 265
        },
        "id": "iEOOXJjgjPtU",
        "outputId": "8a26698f-cf69-413c-f6c5-ef078d4a82d7"
      },
      "execution_count": null,
      "outputs": [
        {
          "output_type": "display_data",
          "data": {
            "text/plain": [
              "<Figure size 432x288 with 1 Axes>"
            ],
            "image/png": "[encoded data removed]"
          },
          "metadata": {
            "needs_background": "light"
          }
        }
      ]
    },
    {
      "cell_type": "code",
      "source": [
        "train, test = load_dataset(dataset, BATCH_SIZE)\n",
        "optim= torch.optim.Adam(model.parameters(), lr=LR)\n",
        "loss_single_epoch = training(model, copy_mod, train, criterion, optim, batch_size = BATCH_SIZE, device = device, k = -1, masks =  None)"
      ],
      "metadata": {
        "colab": {
          "base_uri": "https://localhost:8080/"
        },
        "id": "pox5SfFFZhJn",
        "outputId": "fa27affa-79c0-46e9-8c0a-42c5043f9ca0"
      },
      "execution_count": null,
      "outputs": [
        {
          "output_type": "stream",
          "name": "stdout",
          "text": [
            "Files already downloaded and verified\n",
            "Files already downloaded and verified\n"
          ]
        }
      ]
    },
    {
      "cell_type": "code",
      "source": [
        "accuracy(model, test, device)"
      ],
      "metadata": {
        "colab": {
          "base_uri": "https://localhost:8080/"
        },
        "id": "P690JKkecQGb",
        "outputId": "622616db-2e3b-48cc-b581-833b53341a36"
      },
      "execution_count": null,
      "outputs": [
        {
          "output_type": "stream",
          "name": "stdout",
          "text": [
            "Correct predictions:  6436 over 10000\n"
          ]
        },
        {
          "output_type": "execute_result",
          "data": {
            "text/plain": [
              "0.6436"
            ]
          },
          "metadata": {},
          "execution_count": 76
        }
      ]
    },
    {
      "cell_type": "code",
      "source": [
        "plt.plot(range(len(loss_single_epoch)), loss_single_epoch)"
      ],
      "metadata": {
        "colab": {
          "base_uri": "https://localhost:8080/"
        },
        "id": "TfFQay5HcM72",
        "outputId": "880f26ab-7762-4c03-f839-452f171530a9"
      },
      "execution_count": null,
      "outputs": [
        {
          "output_type": "execute_result",
          "data": {
            "text/plain": [
              "[<matplotlib.lines.Line2D at 0x7f5a5234c390>]"
            ]
          },
          "metadata": {},
          "execution_count": 77
        },
        {
          "output_type": "display_data",
          "data": {
            "text/plain": [
              "<Figure size 432x288 with 1 Axes>"
            ],
            "image/png": "[encoded data removed]"
          },
          "metadata": {
            "needs_background": "light"
          }
        }
      ]
    }
  ]
}